{
 "cells": [
  {
   "cell_type": "markdown",
   "id": "34f57c15",
   "metadata": {
    "_cell_guid": "b1076dfc-b9ad-4769-8c92-a6c4dae69d19",
    "_uuid": "8f2839f25d086af736a60e9eeb907d3b93b6e0e5",
    "papermill": {
     "duration": 0.004151,
     "end_time": "2024-03-13T00:34:05.013849",
     "exception": false,
     "start_time": "2024-03-13T00:34:05.009698",
     "status": "completed"
    },
    "tags": []
   },
   "source": [
    "# Starter Notebook: Generating More Data With Gemma\n",
    "Our ultimate goal in this competition is to take an original sample of text and a new version of that text rewritten by Gemma, and to figure out what prompt was used to get the new version. A helpful first step is to be able to generate a bunch of examples of what that looks like, so we can then learn the relationships between the original text, rewrite prompt and rewritten text.\n",
    "\n",
    "To generate examples, we'll need a few things:\n",
    "1. A corpus of original texts\n",
    "2. A set of rewrite prompts\n",
    "3. Our model (Gemma!) to use the original text and rewrite prompt to generate a rewritten text\n",
    "\n",
    "Let's tackle them one by one."
   ]
  },
  {
   "cell_type": "markdown",
   "id": "c33e75f0",
   "metadata": {
    "papermill": {
     "duration": 0.003414,
     "end_time": "2024-03-13T00:34:05.021187",
     "exception": false,
     "start_time": "2024-03-13T00:34:05.017773",
     "status": "completed"
    },
    "tags": []
   },
   "source": [
    "## Generating `original_text`\n",
    "While we don't know too much about the original text used in the competition test set,\n",
    "the meta-kaggle dataset provides a corpus of forum messages on kaggle that we can\n",
    "use as a simple example.\n"
   ]
  },
  {
   "cell_type": "code",
   "execution_count": 1,
   "id": "2cabfeed",
   "metadata": {
    "execution": {
     "iopub.execute_input": "2024-03-13T00:34:05.029847Z",
     "iopub.status.busy": "2024-03-13T00:34:05.029505Z",
     "iopub.status.idle": "2024-03-13T00:34:30.253509Z",
     "shell.execute_reply": "2024-03-13T00:34:30.252585Z"
    },
    "papermill": {
     "duration": 25.230997,
     "end_time": "2024-03-13T00:34:30.255744",
     "exception": false,
     "start_time": "2024-03-13T00:34:05.024747",
     "status": "completed"
    },
    "tags": []
   },
   "outputs": [
    {
     "data": {
      "text/html": [
       "<div>\n",
       "<style scoped>\n",
       "    .dataframe tbody tr th:only-of-type {\n",
       "        vertical-align: middle;\n",
       "    }\n",
       "\n",
       "    .dataframe tbody tr th {\n",
       "        vertical-align: top;\n",
       "    }\n",
       "\n",
       "    .dataframe thead th {\n",
       "        text-align: right;\n",
       "    }\n",
       "</style>\n",
       "<table border=\"1\" class=\"dataframe\">\n",
       "  <thead>\n",
       "    <tr style=\"text-align: right;\">\n",
       "      <th></th>\n",
       "      <th>Id</th>\n",
       "      <th>ForumTopicId</th>\n",
       "      <th>PostUserId</th>\n",
       "      <th>PostDate</th>\n",
       "      <th>ReplyToForumMessageId</th>\n",
       "      <th>Message</th>\n",
       "      <th>Medal</th>\n",
       "      <th>MedalAwardDate</th>\n",
       "    </tr>\n",
       "  </thead>\n",
       "  <tbody>\n",
       "    <tr>\n",
       "      <th>0</th>\n",
       "      <td>667077</td>\n",
       "      <td>115913</td>\n",
       "      <td>1788308</td>\n",
       "      <td>11/06/2019 19:38:55</td>\n",
       "      <td>666668.0</td>\n",
       "      <td>&lt;p&gt;&lt;a href=\"/cdeotte\"&gt;@cdeotte&lt;/a&gt; &lt;/p&gt;\\n\\n&lt;p&gt;...</td>\n",
       "      <td>3.0</td>\n",
       "      <td>11/06/2019</td>\n",
       "    </tr>\n",
       "    <tr>\n",
       "      <th>1</th>\n",
       "      <td>667076</td>\n",
       "      <td>74968</td>\n",
       "      <td>3961461</td>\n",
       "      <td>11/06/2019 19:38:19</td>\n",
       "      <td>NaN</td>\n",
       "      <td>&lt;p&gt;A very detailed and helpful notebook, \\nTha...</td>\n",
       "      <td>NaN</td>\n",
       "      <td>NaN</td>\n",
       "    </tr>\n",
       "    <tr>\n",
       "      <th>2</th>\n",
       "      <td>667075</td>\n",
       "      <td>115817</td>\n",
       "      <td>1666986</td>\n",
       "      <td>11/06/2019 19:37:59</td>\n",
       "      <td>NaN</td>\n",
       "      <td>&lt;p&gt;You don't say. You might just got your wish...</td>\n",
       "      <td>NaN</td>\n",
       "      <td>NaN</td>\n",
       "    </tr>\n",
       "    <tr>\n",
       "      <th>3</th>\n",
       "      <td>667074</td>\n",
       "      <td>113468</td>\n",
       "      <td>1073620</td>\n",
       "      <td>11/06/2019 19:34:36</td>\n",
       "      <td>666591.0</td>\n",
       "      <td>&lt;p&gt;Hi &lt;a href=\"/mobassir\"&gt;@mobassir&lt;/a&gt;  If I ...</td>\n",
       "      <td>3.0</td>\n",
       "      <td>11/07/2019</td>\n",
       "    </tr>\n",
       "    <tr>\n",
       "      <th>4</th>\n",
       "      <td>667073</td>\n",
       "      <td>116025</td>\n",
       "      <td>1666986</td>\n",
       "      <td>11/06/2019 19:33:54</td>\n",
       "      <td>NaN</td>\n",
       "      <td>&lt;p&gt;This like betting your life savings on a ga...</td>\n",
       "      <td>3.0</td>\n",
       "      <td>11/06/2019</td>\n",
       "    </tr>\n",
       "  </tbody>\n",
       "</table>\n",
       "</div>"
      ],
      "text/plain": [
       "       Id  ForumTopicId  PostUserId             PostDate  \\\n",
       "0  667077        115913     1788308  11/06/2019 19:38:55   \n",
       "1  667076         74968     3961461  11/06/2019 19:38:19   \n",
       "2  667075        115817     1666986  11/06/2019 19:37:59   \n",
       "3  667074        113468     1073620  11/06/2019 19:34:36   \n",
       "4  667073        116025     1666986  11/06/2019 19:33:54   \n",
       "\n",
       "   ReplyToForumMessageId                                            Message  \\\n",
       "0               666668.0  <p><a href=\"/cdeotte\">@cdeotte</a> </p>\\n\\n<p>...   \n",
       "1                    NaN  <p>A very detailed and helpful notebook, \\nTha...   \n",
       "2                    NaN  <p>You don't say. You might just got your wish...   \n",
       "3               666591.0  <p>Hi <a href=\"/mobassir\">@mobassir</a>  If I ...   \n",
       "4                    NaN  <p>This like betting your life savings on a ga...   \n",
       "\n",
       "   Medal MedalAwardDate  \n",
       "0    3.0     11/06/2019  \n",
       "1    NaN            NaN  \n",
       "2    NaN            NaN  \n",
       "3    3.0     11/07/2019  \n",
       "4    3.0     11/06/2019  "
      ]
     },
     "execution_count": 1,
     "metadata": {},
     "output_type": "execute_result"
    }
   ],
   "source": [
    "import pandas as pd\n",
    "\n",
    "forum_messsages_df = pd.read_csv('/kaggle/input/meta-kaggle/ForumMessages.csv')\n",
    "forum_messsages_df.head()"
   ]
  },
  {
   "cell_type": "code",
   "execution_count": 2,
   "id": "ff4de595",
   "metadata": {
    "execution": {
     "iopub.execute_input": "2024-03-13T00:34:30.265308Z",
     "iopub.status.busy": "2024-03-13T00:34:30.264773Z",
     "iopub.status.idle": "2024-03-13T00:34:30.269918Z",
     "shell.execute_reply": "2024-03-13T00:34:30.269076Z"
    },
    "papermill": {
     "duration": 0.011909,
     "end_time": "2024-03-13T00:34:30.271879",
     "exception": false,
     "start_time": "2024-03-13T00:34:30.259970",
     "status": "completed"
    },
    "tags": []
   },
   "outputs": [],
   "source": [
    "# Let's grab the first 5 messages to test our generation pipeline:\n",
    "\n",
    "original_texts = forum_messsages_df['Message'][:5]"
   ]
  },
  {
   "cell_type": "markdown",
   "id": "1a82f5c9",
   "metadata": {
    "papermill": {
     "duration": 0.003626,
     "end_time": "2024-03-13T00:34:30.279349",
     "exception": false,
     "start_time": "2024-03-13T00:34:30.275723",
     "status": "completed"
    },
    "tags": []
   },
   "source": [
    "## Generating `rewrite_prompt`\n",
    "While there are lots of ways to come up with rewrite prompts, for simplicity here are a few random prompts we can use."
   ]
  },
  {
   "cell_type": "code",
   "execution_count": 3,
   "id": "1df53895",
   "metadata": {
    "execution": {
     "iopub.execute_input": "2024-03-13T00:34:30.288175Z",
     "iopub.status.busy": "2024-03-13T00:34:30.287900Z",
     "iopub.status.idle": "2024-03-13T00:34:30.291813Z",
     "shell.execute_reply": "2024-03-13T00:34:30.291032Z"
    },
    "papermill": {
     "duration": 0.01047,
     "end_time": "2024-03-13T00:34:30.293656",
     "exception": false,
     "start_time": "2024-03-13T00:34:30.283186",
     "status": "completed"
    },
    "tags": []
   },
   "outputs": [],
   "source": [
    "rewrite_prompts = [\n",
    "    'Explain this to me like I\\'m five.',\n",
    "    'Convert this into a sea shanty.',\n",
    "    'Make this rhyme.',\n",
    "]"
   ]
  },
  {
   "cell_type": "markdown",
   "id": "4ce3ffdc",
   "metadata": {
    "papermill": {
     "duration": 0.003611,
     "end_time": "2024-03-13T00:34:30.301203",
     "exception": false,
     "start_time": "2024-03-13T00:34:30.297592",
     "status": "completed"
    },
    "tags": []
   },
   "source": [
    "## Generating `rewritten_text` with Gemma\n",
    "Now for the fun part! We can use gemma to rewrite our original text samples\n",
    "using the rewrite prompts we created.\n",
    "The code in this cell is borrowed from [the model card](https://www.kaggle.com/models/google/gemma/frameworks/pyTorch/variations/7b-it-quant).\n",
    "The important things to know:\n",
    "\n",
    "We're using the 7B parameter instruction tuned quantized model, which means:\n",
    "\n",
    "- 7B Parameter: this is the larger of the two Gemma models (the other has 2 billion parameters).\n",
    "    In general we expect the larger model to perform better on complex tasks, but\n",
    "    it's more resource intensive. You can see exactly how Gemma 7B compares to to Gemma 2B [here](https://ai.google.dev/gemma).\n",
    "- Instruction Tuned: instruction tuning is an extra training step that results in a model that\n",
    "    can follow user instructions better. Our rewrite prompt is a kind of instruction, so this is what we want!\n",
    "- Quantized: quantization is a way of shrinking the size of a model by reducing the precision of each\n",
    "    parameter; so while our model still has 7 billion parameters, it's easier to run on limited\n",
    "    hardware.\n",
    "\n",
    "At the end of this cell, we'll have a `model` we can call `generate` on with a specially formatted prompt."
   ]
  },
  {
   "cell_type": "code",
   "execution_count": 4,
   "id": "3dcb0a1e",
   "metadata": {
    "execution": {
     "iopub.execute_input": "2024-03-13T00:34:30.309870Z",
     "iopub.status.busy": "2024-03-13T00:34:30.309630Z",
     "iopub.status.idle": "2024-03-13T00:35:53.764215Z",
     "shell.execute_reply": "2024-03-13T00:35:53.762943Z"
    },
    "papermill": {
     "duration": 83.461945,
     "end_time": "2024-03-13T00:35:53.766942",
     "exception": false,
     "start_time": "2024-03-13T00:34:30.304997",
     "status": "completed"
    },
    "tags": []
   },
   "outputs": [
    {
     "name": "stdout",
     "output_type": "stream",
     "text": [
      "Cloning into 'gemma_pytorch'...\r\n",
      "remote: Enumerating objects: 102, done.\u001b[K\r\n",
      "remote: Counting objects: 100% (47/47), done.\u001b[K\r\n",
      "remote: Compressing objects: 100% (33/33), done.\u001b[K\r\n",
      "remote: Total 102 (delta 26), reused 23 (delta 14), pack-reused 55\u001b[K\r\n",
      "Receiving objects: 100% (102/102), 2.15 MiB | 15.94 MiB/s, done.\r\n",
      "Resolving deltas: 100% (48/48), done.\r\n"
     ]
    },
    {
     "name": "stderr",
     "output_type": "stream",
     "text": [
      "/opt/conda/lib/python3.10/site-packages/torch/_utils.py:831: UserWarning: TypedStorage is deprecated. It will be removed in the future and UntypedStorage will be the only storage class. This should only matter to you if you are using storages directly.  To access UntypedStorage directly, use tensor.untyped_storage() instead of tensor.storage()\n",
      "  return self.fget.__get__(instance, owner)()\n"
     ]
    }
   ],
   "source": [
    "!pip install -q -U immutabledict sentencepiece \n",
    "!git clone https://github.com/google/gemma_pytorch.git\n",
    "!mkdir /kaggle/working/gemma/\n",
    "!mv /kaggle/working/gemma_pytorch/gemma/* /kaggle/working/gemma/\n",
    "\n",
    "import sys \n",
    "sys.path.append(\"/kaggle/working/gemma_pytorch/\") \n",
    "from gemma.config import GemmaConfig, get_config_for_7b, get_config_for_2b\n",
    "from gemma.model import GemmaForCausalLM\n",
    "from gemma.tokenizer import Tokenizer\n",
    "import contextlib\n",
    "import os\n",
    "import torch\n",
    "\n",
    "# Load the model\n",
    "VARIANT = \"7b-it-quant\" \n",
    "MACHINE_TYPE = \"cuda\" \n",
    "weights_dir = '/kaggle/input/gemma/pytorch/7b-it-quant/2' \n",
    "\n",
    "@contextlib.contextmanager\n",
    "def _set_default_tensor_type(dtype: torch.dtype):\n",
    "  \"\"\"Sets the default torch dtype to the given dtype.\"\"\"\n",
    "  torch.set_default_dtype(dtype)\n",
    "  yield\n",
    "  torch.set_default_dtype(torch.float)\n",
    "\n",
    "# Model Config.\n",
    "model_config = get_config_for_2b() if \"2b\" in VARIANT else get_config_for_7b()\n",
    "model_config.tokenizer = os.path.join(weights_dir, \"tokenizer.model\")\n",
    "model_config.quant = \"quant\" in VARIANT\n",
    "\n",
    "# Model.\n",
    "device = torch.device(MACHINE_TYPE)\n",
    "with _set_default_tensor_type(model_config.get_dtype()):\n",
    "  model = GemmaForCausalLM(model_config)\n",
    "  ckpt_path = os.path.join(weights_dir, f'gemma-{VARIANT}.ckpt')\n",
    "  model.load_weights(ckpt_path)\n",
    "  model = model.to(device).eval()\n"
   ]
  },
  {
   "cell_type": "code",
   "execution_count": 5,
   "id": "1c1ed7cc",
   "metadata": {
    "execution": {
     "iopub.execute_input": "2024-03-13T00:35:53.778720Z",
     "iopub.status.busy": "2024-03-13T00:35:53.777680Z",
     "iopub.status.idle": "2024-03-13T00:39:21.600923Z",
     "shell.execute_reply": "2024-03-13T00:39:21.600004Z"
    },
    "papermill": {
     "duration": 207.831392,
     "end_time": "2024-03-13T00:39:21.603247",
     "exception": false,
     "start_time": "2024-03-13T00:35:53.771855",
     "status": "completed"
    },
    "tags": []
   },
   "outputs": [],
   "source": [
    "# Now we can loop through our input texts, randomly select a rewrite prompt, and see Gemma in action:\n",
    "\n",
    "import random\n",
    "random.seed(0)\n",
    "# This is the prompt format the model expects\n",
    "USER_CHAT_TEMPLATE = \"<start_of_turn>user\\n{prompt}<end_of_turn>\\n<start_of_turn>model\\n\"\n",
    "\n",
    "rewrite_data = []\n",
    "\n",
    "for original_text in original_texts:\n",
    "    rewrite_prompt = random.choice(rewrite_prompts)\n",
    "    prompt = f'{rewrite_prompt}\\n{original_text}'\n",
    "    rewritten_text = model.generate(\n",
    "        USER_CHAT_TEMPLATE.format(prompt=prompt),\n",
    "        device=device,\n",
    "        output_len=100,\n",
    "    )\n",
    "    rewrite_data.append({\n",
    "        'original_text': original_text,\n",
    "        'rewrite_prompt': rewrite_prompt,\n",
    "        'rewritten_text': rewritten_text,\n",
    "    })\n",
    "    "
   ]
  },
  {
   "cell_type": "code",
   "execution_count": 6,
   "id": "e3fbb4a0",
   "metadata": {
    "execution": {
     "iopub.execute_input": "2024-03-13T00:39:21.614070Z",
     "iopub.status.busy": "2024-03-13T00:39:21.613787Z",
     "iopub.status.idle": "2024-03-13T00:39:21.622358Z",
     "shell.execute_reply": "2024-03-13T00:39:21.620951Z"
    },
    "papermill": {
     "duration": 0.016676,
     "end_time": "2024-03-13T00:39:21.624986",
     "exception": false,
     "start_time": "2024-03-13T00:39:21.608310",
     "status": "completed"
    },
    "tags": []
   },
   "outputs": [
    {
     "data": {
      "text/plain": [
       "array([['<p><a href=\"/cdeotte\">@cdeotte</a> </p>\\n\\n<p>Yeah, almost everybody now thinking that no reason to make some public kernel for teaching purposes or kernel medals (which anyway teaches/helps others to have code to start on). </p>\\n\\n<p>Hence, the educational value of Kaggle is vastly decreasing. </p>',\n",
       "        'Convert this into a sea shanty.',\n",
       "        \"(Verse 1)\\nThe code's out there, a whale's tail,\\nBut a public kernel's beyond a pale.\\nNo reason to make a song of your code,\\nWhen medals teach and help the road.\\n\\n(Chorus)\\nSo Kaggle's education's gone awry,\\nThe value's gone, a sigh.\\nNo more kernels to be made,\\nThe code's just a whale's wake.\\n\\n(Verse\"]],\n",
       "      dtype=object)"
      ]
     },
     "execution_count": 6,
     "metadata": {},
     "output_type": "execute_result"
    }
   ],
   "source": [
    "# Let's turn our generated data into a dataframe, and spot check the first rewrite to see if it makes sense.\n",
    "rewrite_data_df = pd.DataFrame(rewrite_data)\n",
    "rewrite_data_df[:1].values"
   ]
  },
  {
   "cell_type": "markdown",
   "id": "4e463e9c",
   "metadata": {
    "papermill": {
     "duration": 0.004454,
     "end_time": "2024-03-13T00:39:21.634168",
     "exception": false,
     "start_time": "2024-03-13T00:39:21.629714",
     "status": "completed"
    },
    "tags": []
   },
   "source": [
    "# Next Steps\n",
    "\n",
    "Huzzah! We have a dataset with original texts, rewrite prompts, and rewritten text. Here are a couple of suggestions of next steps you could take to generate a larger, more diverse dataset:\n",
    "1. Add more original text data sources; besides just using all of the forum messages (instead of just the first 5), Kaggle has tons of datasets that would make reasonable input text. Here are few random datasets you could use:\n",
    "    - The `Plot` column from the [Wikipedia Movie Plots dataset](https://www.kaggle.com/datasets/jrobischon/wikipedia-movie-plots).\n",
    "    - The `text` column from the [Emotions dataset](https://www.kaggle.com/datasets/nelgiriyewithana/emotions).\n",
    "    - The `body_text` and `abstract` columns of the [Wikibooks Dataset](https://www.kaggle.com/datasets/dhruvildave/wikibooks-dataset).\n",
    "    \n",
    "    Note that each of these may need different preprocessing; for example, Gemma has a context length of 8192 tokens, so if the text is long, you'll need to truncate it.\n",
    "2. Use gemma to generate original text.\n",
    "3. Expand the list of rewrite prompts. You can come up with them manually, or explore having Gemma write rewrite prompts.\n",
    "4. Play around with the generation of `rewritten_text`:\n",
    "   - How does changing `output_len` affect the length and quality of rewrites?\n",
    "   - Do rewrites with the 2B parameter model differ substantially from the 7B model?\n",
    "   - Can you use [few shot prompting](https://www.promptingguide.ai/techniques/fewshot) to get higher quality rewrites?"
   ]
  },
  {
   "cell_type": "code",
   "execution_count": null,
   "id": "b22baffa",
   "metadata": {
    "papermill": {
     "duration": 0.004392,
     "end_time": "2024-03-13T00:39:21.643293",
     "exception": false,
     "start_time": "2024-03-13T00:39:21.638901",
     "status": "completed"
    },
    "tags": []
   },
   "outputs": [],
   "source": []
  }
 ],
 "metadata": {
  "kaggle": {
   "accelerator": "gpu",
   "dataSources": [
    {
     "databundleVersionId": 7806901,
     "sourceId": 67121,
     "sourceType": "competition"
    },
    {
     "datasetId": 9,
     "sourceId": 7820008,
     "sourceType": "datasetVersion"
    },
    {
     "modelInstanceId": 8749,
     "sourceId": 11359,
     "sourceType": "modelInstanceVersion"
    }
   ],
   "dockerImageVersionId": 30648,
   "isGpuEnabled": true,
   "isInternetEnabled": true,
   "language": "python",
   "sourceType": "notebook"
  },
  "kernelspec": {
   "display_name": "Python 3",
   "language": "python",
   "name": "python3"
  },
  "language_info": {
   "codemirror_mode": {
    "name": "ipython",
    "version": 3
   },
   "file_extension": ".py",
   "mimetype": "text/x-python",
   "name": "python",
   "nbconvert_exporter": "python",
   "pygments_lexer": "ipython3",
   "version": "3.10.13"
  },
  "papermill": {
   "default_parameters": {},
   "duration": 322.257628,
   "end_time": "2024-03-13T00:39:24.552682",
   "environment_variables": {},
   "exception": null,
   "input_path": "__notebook__.ipynb",
   "output_path": "__notebook__.ipynb",
   "parameters": {},
   "start_time": "2024-03-13T00:34:02.295054",
   "version": "2.5.0"
  }
 },
 "nbformat": 4,
 "nbformat_minor": 5
}
